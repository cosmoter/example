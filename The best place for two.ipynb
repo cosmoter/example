{
 "cells": [
  {
   "cell_type": "markdown",
   "metadata": {},
   "source": [
    "# Introduction/Business Problem "
   ]
  },
  {
   "cell_type": "markdown",
   "metadata": {},
   "source": [
    "There was described a problem in the beginning of the course: a person needs to relocate and wants to find the same district at the new place.\n",
    "\n",
    "But it is common when two or more persons participate in the process (a family) and everybody has his/her favorite place.\n",
    "E.g. he is from Toronto, she is from New York, and they want to live together in Paris.\n",
    "\n",
    "It is not so easy task because it is not just to find the place close by features to the average place of two.\n",
    "\n",
    "The goal is to find the place that is the best for all the persons involved knowing their favorite places."
   ]
  },
  {
   "cell_type": "markdown",
   "metadata": {},
   "source": [
    "# Data "
   ]
  },
  {
   "cell_type": "markdown",
   "metadata": {},
   "source": [
    "We will use Foursquare data to retrieve place information, mainly results of explore function because it's free of use.\n",
    "1. Features of initial place 1\n",
    "2. Features of initial place 2\n",
    "3. Features of target places 3 distributed by grid\n",
    "We will search the best place in the grid (not neighborhoods).\n",
    "\n",
    "\n",
    "Plus we will try tu use different functions to merge interests of the persons.\n",
    "1. Min\n",
    "2. Average\n",
    "3. Geometric mean"
   ]
  },
  {
   "cell_type": "code",
   "execution_count": null,
   "metadata": {},
   "outputs": [],
   "source": []
  }
 ],
 "metadata": {
  "kernelspec": {
   "display_name": "Python 3",
   "language": "python",
   "name": "python3"
  },
  "language_info": {
   "codemirror_mode": {
    "name": "ipython",
    "version": 3
   },
   "file_extension": ".py",
   "mimetype": "text/x-python",
   "name": "python",
   "nbconvert_exporter": "python",
   "pygments_lexer": "ipython3",
   "version": "3.7.1"
  }
 },
 "nbformat": 4,
 "nbformat_minor": 2
}
